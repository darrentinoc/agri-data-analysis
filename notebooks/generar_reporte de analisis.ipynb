{
 "cells": [
  {
   "cell_type": "markdown",
   "id": "7f96ac2a",
   "metadata": {},
   "source": [
    "# Reporte de analisis"
   ]
  },
  {
   "cell_type": "code",
   "execution_count": 18,
   "id": "db84a793",
   "metadata": {},
   "outputs": [
    {
     "name": "stdout",
     "output_type": "stream",
     "text": [
      "Collecting openpyxl\n",
      "  Downloading openpyxl-3.1.5-py2.py3-none-any.whl.metadata (2.5 kB)\n",
      "Collecting et-xmlfile (from openpyxl)\n",
      "  Downloading et_xmlfile-2.0.0-py3-none-any.whl.metadata (2.7 kB)\n",
      "Downloading openpyxl-3.1.5-py2.py3-none-any.whl (250 kB)\n",
      "Downloading et_xmlfile-2.0.0-py3-none-any.whl (18 kB)\n",
      "Installing collected packages: et-xmlfile, openpyxl\n",
      "\u001b[2K   \u001b[90m━━━━━━━━━━━━━━━━━━━━━━━━━━━━━━━━━━━━━━━━\u001b[0m \u001b[32m2/2\u001b[0m [openpyxl]1/2\u001b[0m [openpyxl]\n",
      "\u001b[1A\u001b[2KSuccessfully installed et-xmlfile-2.0.0 openpyxl-3.1.5\n",
      "Note: you may need to restart the kernel to use updated packages.\n"
     ]
    }
   ],
   "source": [
    "pip install openpyxl"
   ]
  },
  {
   "cell_type": "code",
   "execution_count": 20,
   "id": "4c281ebc",
   "metadata": {},
   "outputs": [
    {
     "name": "stdout",
     "output_type": "stream",
     "text": [
      "Reporte guardado en ../reports/resumen_productos.xlsx\n"
     ]
    }
   ],
   "source": [
    "import pandas as pd\n",
    "import os\n",
    "\n",
    "\n",
    "# Crear carpeta si no existe\n",
    "output_dir = '../reports'\n",
    "os.makedirs(output_dir, exist_ok=True)\n",
    "\n",
    "# Leer datos\n",
    "df = pd.read_csv('/workspaces/agri-data-analysis/data/productos_agricolas.csv')\n",
    "\n",
    "# Resumen por región\n",
    "resumen_region = df.groupby('region').agg({\n",
    "    'rendimiento_kg_ha': 'mean',\n",
    "    'precio_kg': 'mean'\n",
    "}).reset_index()\n",
    "\n",
    "# Resumen por tipo\n",
    "resumen_tipo = df.groupby('tipo').agg({\n",
    "    'rendimiento_kg_ha': 'mean',\n",
    "    'precio_kg': 'mean'\n",
    "}).reset_index()\n",
    "\n",
    "# Estadísticas generales\n",
    "estadisticas = df.describe()\n",
    "\n",
    "# Exportar a Excel\n",
    "output_file = os.path.join(output_dir, 'resumen_productos.xlsx')\n",
    "with pd.ExcelWriter(output_file) as writer:\n",
    "    resumen_region.to_excel(writer, sheet_name='ResumenRegion', index=False)\n",
    "    resumen_tipo.to_excel(writer, sheet_name='ResumenTipo', index=False)\n",
    "    estadisticas.to_excel(writer, sheet_name='EstadisticasGenerales')\n",
    "\n",
    "print(f'Reporte guardado en {output_file}')\n"
   ]
  }
 ],
 "metadata": {
  "kernelspec": {
   "display_name": "Python 3",
   "language": "python",
   "name": "python3"
  },
  "language_info": {
   "codemirror_mode": {
    "name": "ipython",
    "version": 3
   },
   "file_extension": ".py",
   "mimetype": "text/x-python",
   "name": "python",
   "nbconvert_exporter": "python",
   "pygments_lexer": "ipython3",
   "version": "3.12.1"
  }
 },
 "nbformat": 4,
 "nbformat_minor": 5
}
